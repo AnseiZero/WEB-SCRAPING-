{
 "cells": [
  {
   "attachments": {},
   "cell_type": "markdown",
   "metadata": {},
   "source": [
    "# Question 1 - Extracting Tesla Stock Data Using yfinance"
   ]
  },
  {
   "cell_type": "code",
   "execution_count": 3,
   "metadata": {},
   "outputs": [
    {
     "name": "stdout",
     "output_type": "stream",
     "text": [
      "First 5 rows:\n",
      "                                 Open        High         Low       Close  \\\n",
      "Date                                                                        \n",
      "2022-12-01 00:00:00-05:00  197.080002  198.919998  191.800003  194.699997   \n",
      "2022-12-02 00:00:00-05:00  191.779999  196.250000  191.110001  194.860001   \n",
      "2022-12-05 00:00:00-05:00  189.440002  191.270004  180.550003  182.449997   \n",
      "2022-12-06 00:00:00-05:00  181.220001  183.649994  175.330002  179.820007   \n",
      "2022-12-07 00:00:00-05:00  175.029999  179.380005  172.220001  174.039993   \n",
      "\n",
      "                             Volume  Dividends  Stock Splits  \n",
      "Date                                                          \n",
      "2022-12-01 00:00:00-05:00  80046200        0.0           0.0  \n",
      "2022-12-02 00:00:00-05:00  73645900        0.0           0.0  \n",
      "2022-12-05 00:00:00-05:00  93122700        0.0           0.0  \n",
      "2022-12-06 00:00:00-05:00  92150800        0.0           0.0  \n",
      "2022-12-07 00:00:00-05:00  84213300        0.0           0.0  \n"
     ]
    }
   ],
   "source": [
    "import yfinance as yf\n",
    "\n",
    "# Define the ticker symbol\n",
    "tickerSymbol = 'TSLA'\n",
    "\n",
    "# Get data on the ticker\n",
    "tickerData = yf.Ticker(tickerSymbol)\n",
    "\n",
    "# Get the historical prices for this ticker\n",
    "tickerDf = tickerData.history(period='1d', start='2022-12-1', end='2023-4-13')\n",
    "\n",
    "# Display the first 5 rows of the DataFrame\n",
    "print(\"First 5 rows:\")\n",
    "print(tickerDf.head())\n"
   ]
  },
  {
   "attachments": {},
   "cell_type": "markdown",
   "metadata": {},
   "source": [
    "# Question 2 - Extracting Tesla Revenue Data Using Webscraping"
   ]
  },
  {
   "cell_type": "code",
   "execution_count": 4,
   "metadata": {},
   "outputs": [
    {
     "name": "stdout",
     "output_type": "stream",
     "text": [
      "2022 $81,462\n",
      "2021 $53,823\n",
      "2020 $31,536\n",
      "2019 $24,578\n",
      "2018 $21,461\n",
      "2017 $11,759\n",
      "2016 $7,000\n",
      "2015 $4,046\n",
      "2014 $3,198\n",
      "2013 $2,013\n",
      "2012 $413\n",
      "2011 $204\n",
      "2010 $117\n",
      "2009 $112\n"
     ]
    }
   ],
   "source": [
    "import requests\n",
    "from bs4 import BeautifulSoup\n",
    "\n",
    "# Define the URL to scrape\n",
    "url = 'https://www.macrotrends.net/stocks/charts/TSLA/tesla/revenue'\n",
    "\n",
    "# Send a request to the website to retrieve the HTML content\n",
    "response = requests.get(url)\n",
    "\n",
    "# Parse the HTML content using BeautifulSoup\n",
    "soup = BeautifulSoup(response.content, 'html.parser')\n",
    "\n",
    "# Find the table containing the revenue data\n",
    "table = soup.find('table', {'class': 'historical_data_table'})\n",
    "\n",
    "# Extract the revenue data from the table\n",
    "rows = table.findAll('tr')\n",
    "for row in rows:\n",
    "    cols = row.findAll('td')\n",
    "    if len(cols) > 0:\n",
    "        date = cols[0].text.strip()\n",
    "        revenue = cols[1].text.strip()\n",
    "        print(date, revenue)"
   ]
  },
  {
   "attachments": {},
   "cell_type": "markdown",
   "metadata": {},
   "source": [
    "# Question 3 - Extracting GameStop Stock Data Using yfinance"
   ]
  },
  {
   "cell_type": "code",
   "execution_count": 6,
   "metadata": {},
   "outputs": [
    {
     "name": "stdout",
     "output_type": "stream",
     "text": [
      "                                Open       High        Low      Close  \\\n",
      "Date                                                                    \n",
      "2021-12-01 00:00:00-05:00  49.849998  50.027500  44.252499  44.959999   \n",
      "2021-12-02 00:00:00-05:00  46.250000  46.857498  43.267502  45.389999   \n",
      "2021-12-03 00:00:00-05:00  45.250000  45.982498  39.762501  43.097500   \n",
      "2021-12-06 00:00:00-05:00  41.500000  43.334999  40.799999  41.779999   \n",
      "2021-12-07 00:00:00-05:00  43.794998  45.494999  42.627499  44.452499   \n",
      "\n",
      "                             Volume  Dividends  Stock Splits  \n",
      "Date                                                          \n",
      "2021-12-01 00:00:00-05:00   9406000        0.0           0.0  \n",
      "2021-12-02 00:00:00-05:00   8348400        0.0           0.0  \n",
      "2021-12-03 00:00:00-05:00  16386800        0.0           0.0  \n",
      "2021-12-06 00:00:00-05:00   8914400        0.0           0.0  \n",
      "2021-12-07 00:00:00-05:00   7889600        0.0           0.0  \n"
     ]
    }
   ],
   "source": [
    "import yfinance as yf\n",
    "\n",
    "# Define the ticker symbol\n",
    "tickerSymbol = 'GME'\n",
    "\n",
    "# Get data on the ticker\n",
    "tickerData = yf.Ticker(tickerSymbol)\n",
    "\n",
    "# Get the historical prices for this ticker\n",
    "tickerDf = tickerData.history(period='1d', start='2021-12-1', end='2023-4-13')\n",
    "\n",
    "# View the data\n",
    "print(tickerDf.head())\n"
   ]
  },
  {
   "attachments": {},
   "cell_type": "markdown",
   "metadata": {},
   "source": [
    "# Question 4 - Extracting GameStop Revenue Data Using Webscraping "
   ]
  },
  {
   "cell_type": "code",
   "execution_count": 7,
   "metadata": {},
   "outputs": [
    {
     "name": "stdout",
     "output_type": "stream",
     "text": [
      "2023 $5,927\n",
      "2022 $6,011\n",
      "2021 $5,090\n",
      "2020 $6,466\n",
      "2019 $8,285\n",
      "2018 $8,547\n",
      "2017 $7,965\n",
      "2016 $9,364\n",
      "2015 $9,296\n",
      "2014 $9,040\n",
      "2013 $8,887\n",
      "2012 $9,551\n",
      "2011 $9,474\n",
      "2010 $9,078\n",
      "2009 $8,806\n"
     ]
    }
   ],
   "source": [
    "import requests\n",
    "from bs4 import BeautifulSoup\n",
    "\n",
    "# Define the URL to scrape\n",
    "url = 'https://www.macrotrends.net/stocks/charts/GME/gamestop/revenue'\n",
    "\n",
    "# Send a request to the website to retrieve the HTML content\n",
    "response = requests.get(url)\n",
    "\n",
    "# Parse the HTML content using BeautifulSoup\n",
    "soup = BeautifulSoup(response.content, 'html.parser')\n",
    "\n",
    "# Find the table containing the revenue data\n",
    "table = soup.find('table', {'class': 'historical_data_table'})\n",
    "\n",
    "# Extract the revenue data from the table\n",
    "rows = table.findAll('tr')\n",
    "for row in rows:\n",
    "    cols = row.findAll('td')\n",
    "    if len(cols) > 0:\n",
    "        date = cols[0].text.strip()\n",
    "        revenue = cols[1].text.strip()\n",
    "        print(date, revenue)\n"
   ]
  },
  {
   "attachments": {},
   "cell_type": "markdown",
   "metadata": {},
   "source": [
    "# Question 5 - Tesla Stock and Revenue Dashboard \n",
    "\n",
    "\n",
    "```\n",
    "This code retrieves Tesla's historical stock prices using Yahoo Finance API and its revenue data using web scraping with BeautifulSoup. It then displays the first 5 rows of the stock price DataFrame and the first 10 rows of the revenue data. Note that we need to clean the revenue data by removing the dollar sign and commas before converting it to a numeric value.\n",
    "```"
   ]
  },
  {
   "cell_type": "code",
   "execution_count": 15,
   "metadata": {},
   "outputs": [
    {
     "name": "stdout",
     "output_type": "stream",
     "text": [
      "Historical Stock Prices - First 5 Rows:\n",
      "                                 Open        High         Low       Close  \\\n",
      "Date                                                                        \n",
      "2022-12-01 00:00:00-05:00  197.080002  198.919998  191.800003  194.699997   \n",
      "2022-12-02 00:00:00-05:00  191.779999  196.250000  191.110001  194.860001   \n",
      "2022-12-05 00:00:00-05:00  189.440002  191.270004  180.550003  182.449997   \n",
      "2022-12-06 00:00:00-05:00  181.220001  183.649994  175.330002  179.820007   \n",
      "2022-12-07 00:00:00-05:00  175.029999  179.380005  172.220001  174.039993   \n",
      "\n",
      "                             Volume  Dividends  Stock Splits  \n",
      "Date                                                          \n",
      "2022-12-01 00:00:00-05:00  80046200        0.0           0.0  \n",
      "2022-12-02 00:00:00-05:00  73645900        0.0           0.0  \n",
      "2022-12-05 00:00:00-05:00  93122700        0.0           0.0  \n",
      "2022-12-06 00:00:00-05:00  92150800        0.0           0.0  \n",
      "2022-12-07 00:00:00-05:00  84213300        0.0           0.0  \n",
      "\n",
      "\n",
      "Historical Revenue Data - First 10 Rows:\n",
      "['2022', '81462']\n",
      "['2021', '53823']\n",
      "['2020', '31536']\n",
      "['2019', '24578']\n",
      "['2018', '21461']\n",
      "['2017', '11759']\n",
      "['2016', '7000']\n",
      "['2015', '4046']\n",
      "['2014', '3198']\n",
      "['2013', '2013']\n"
     ]
    }
   ],
   "source": [
    "import yfinance as yf\n",
    "import requests\n",
    "from bs4 import BeautifulSoup\n",
    "\n",
    "# Define the ticker symbol\n",
    "tickerSymbol = 'TSLA'\n",
    "\n",
    "# Define the URLs to scrape\n",
    "stock_url = f'https://finance.yahoo.com/quote/{tickerSymbol}/history?p={tickerSymbol}'\n",
    "revenue_url = f'https://www.macrotrends.net/stocks/charts/{tickerSymbol.lower()}/tesla/revenue'\n",
    "\n",
    "# Get data on the ticker's historical stock prices\n",
    "tickerData = yf.Ticker(tickerSymbol)\n",
    "tickerDf = tickerData.history(period='1d', start='2022-12-1', end='2023-4-13')\n",
    "\n",
    "# Display the first 5 rows of the stock price DataFrame\n",
    "print(\"Historical Stock Prices - First 5 Rows:\")\n",
    "print(tickerDf.head())\n",
    "\n",
    "# Send a request to the website to retrieve the HTML content\n",
    "response = requests.get(revenue_url)\n",
    "\n",
    "# Parse the HTML content using BeautifulSoup\n",
    "soup = BeautifulSoup(response.content, 'html.parser')\n",
    "\n",
    "# Find the table containing the revenue data\n",
    "table = soup.find('table', {'class': 'historical_data_table'})\n",
    "\n",
    "# Extract the revenue data from the table\n",
    "rows = table.findAll('tr')\n",
    "revenue_data = []\n",
    "for row in rows:\n",
    "    cols = row.findAll('td')\n",
    "    if len(cols) > 0:\n",
    "        date = cols[0].text.strip()\n",
    "        revenue = cols[1].text.strip().replace('$', '').replace(',', '')\n",
    "        revenue_data.append([date, revenue])\n",
    "\n",
    "# Display the first 10 rows of the revenue data\n",
    "print(\"\\n\\nHistorical Revenue Data - First 10 Rows:\")\n",
    "for row in revenue_data[:10]:\n",
    "    print(row)\n"
   ]
  },
  {
   "attachments": {},
   "cell_type": "markdown",
   "metadata": {},
   "source": [
    "# Question 6 - GameStop Stock and Revenue Dashboard\n",
    "\n",
    "\n",
    "```\n",
    "This code retrieves GameStop's historical stock prices using Yahoo Finance API and its revenue data using web scraping with BeautifulSoup. It then displays the first 5 rows of the stock price DataFrame and the first 10 rows of the revenue data. Note that we need to clean the revenue data by removing the dollar sign and commas before converting it to a numeric value.\n",
    "```"
   ]
  },
  {
   "cell_type": "code",
   "execution_count": 18,
   "metadata": {},
   "outputs": [
    {
     "name": "stdout",
     "output_type": "stream",
     "text": [
      "Historical Stock Prices - First 5 Rows:\n",
      "                                Open       High        Low      Close  \\\n",
      "Date                                                                    \n",
      "2021-12-01 00:00:00-05:00  49.849998  50.027500  44.252499  44.959999   \n",
      "2021-12-02 00:00:00-05:00  46.250000  46.857498  43.267502  45.389999   \n",
      "2021-12-03 00:00:00-05:00  45.250000  45.982498  39.762501  43.097500   \n",
      "2021-12-06 00:00:00-05:00  41.500000  43.334999  40.799999  41.779999   \n",
      "2021-12-07 00:00:00-05:00  43.794998  45.494999  42.627499  44.452499   \n",
      "\n",
      "                             Volume  Dividends  Stock Splits  \n",
      "Date                                                          \n",
      "2021-12-01 00:00:00-05:00   9406000        0.0           0.0  \n",
      "2021-12-02 00:00:00-05:00   8348400        0.0           0.0  \n",
      "2021-12-03 00:00:00-05:00  16386800        0.0           0.0  \n",
      "2021-12-06 00:00:00-05:00   8914400        0.0           0.0  \n",
      "2021-12-07 00:00:00-05:00   7889600        0.0           0.0  \n",
      "\n",
      "\n",
      "Historical Revenue Data - First 10 Rows:\n",
      "['2023', '5927']\n",
      "['2022', '6011']\n",
      "['2021', '5090']\n",
      "['2020', '6466']\n",
      "['2019', '8285']\n",
      "['2018', '8547']\n",
      "['2017', '7965']\n",
      "['2016', '9364']\n",
      "['2015', '9296']\n",
      "['2014', '9040']\n"
     ]
    }
   ],
   "source": [
    "import yfinance as yf\n",
    "import requests\n",
    "from bs4 import BeautifulSoup\n",
    "\n",
    "# Define the ticker symbol\n",
    "tickerSymbol = 'GME'\n",
    "\n",
    "# Define the URLs to scrape\n",
    "stock_url = f'https://finance.yahoo.com/quote/{tickerSymbol}/history?p={tickerSymbol}'\n",
    "revenue_url = f'https://www.macrotrends.net/stocks/charts/{tickerSymbol.lower()}/gamestop/revenue'\n",
    "\n",
    "# Get data on the ticker's historical stock prices\n",
    "tickerData = yf.Ticker(tickerSymbol)\n",
    "tickerDf = tickerData.history(period='1d', start='2021-12-1', end='2023-4-13')\n",
    "\n",
    "# Display the first 5 rows of the stock price DataFrame\n",
    "print(\"Historical Stock Prices - First 5 Rows:\")\n",
    "print(tickerDf.head())\n",
    "\n",
    "# Send a request to the website to retrieve the HTML content\n",
    "response = requests.get(revenue_url)\n",
    "\n",
    "# Parse the HTML content using BeautifulSoup\n",
    "soup = BeautifulSoup(response.content, 'html.parser')\n",
    "\n",
    "# Find the table containing the revenue data\n",
    "table = soup.find('table', {'class': 'historical_data_table'})\n",
    "\n",
    "# Extract the revenue data from the table\n",
    "rows = table.findAll('tr')\n",
    "revenue_data = []\n",
    "for row in rows:\n",
    "    cols = row.findAll('td')\n",
    "    if len(cols) > 0:\n",
    "        date = cols[0].text.strip()\n",
    "        revenue = cols[1].text.strip().replace('$', '').replace(',', '')\n",
    "        revenue_data.append([date, revenue])\n",
    "\n",
    "# Display the first 10 rows of the revenue data\n",
    "print(\"\\n\\nHistorical Revenue Data - First 10 Rows:\")\n",
    "for row in revenue_data[:10]:\n",
    "    print(row)\n"
   ]
  },
  {
   "cell_type": "code",
   "execution_count": null,
   "metadata": {},
   "outputs": [],
   "source": []
  }
 ],
 "metadata": {
  "kernelspec": {
   "display_name": "base",
   "language": "python",
   "name": "python3"
  },
  "language_info": {
   "codemirror_mode": {
    "name": "ipython",
    "version": 3
   },
   "file_extension": ".py",
   "mimetype": "text/x-python",
   "name": "python",
   "nbconvert_exporter": "python",
   "pygments_lexer": "ipython3",
   "version": "3.9.13"
  },
  "orig_nbformat": 4
 },
 "nbformat": 4,
 "nbformat_minor": 2
}
